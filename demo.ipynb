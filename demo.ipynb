{
 "cells": [
  {
   "cell_type": "markdown",
   "metadata": {},
   "source": [
    "## Detecting and Mitigating Gender Biasis in Word Embeddings"
   ]
  },
  {
   "cell_type": "code",
   "execution_count": null,
   "metadata": {},
   "outputs": [],
   "source": [
    "\n",
    "# Clone the code repository from https://github.com/MohdGhazanfar/DebiasUrduNLP\n",
    "# mkdir AI_genderBiases\n",
    "# cd AI_genderBiases\n",
    "# git clone https://github.com/MohdGhazanfar/DebiasUrduNLP\n",
    "\n",
    "# For word embeddings: https://drive.google.com/uc?id=1K_4Fbdv9GJDNjR_avLbzKdJPEMVWdYBm&export=download\n",
    "# Place the .bin file in embeddings dir"
   ]
  },
  {
   "cell_type": "code",
   "execution_count": null,
   "metadata": {
    "collapsed": true
   },
   "outputs": [],
   "source": [
    "import sys\n",
    "sys.path.append(r'C:\\Users\\Shayan\\Documents\\FYP\\AI_genderbiases\\debiaswe')\n",
    "from __future__ import print_function, division\n",
    "%matplotlib inline\n",
    "from matplotlib import pyplot as plt\n",
    "import json\n",
    "import random\n",
    "import numpy as np\n",
    "import debiaswe as dwe\n",
    "import debiaswe.we as we\n",
    "from debiaswe.debias import debias\n",
    "from debiaswe.we import WordEmbedding\n",
    "from debiaswe.data import load_professions\n"
   ]
  },
  {
   "cell_type": "code",
   "execution_count": null,
   "metadata": {},
   "outputs": [],
   "source": [
    "# load urduvec_140M_100K_300d\n",
    "E = WordEmbedding('./embeddings/urduvec_140M_100K_300d.bin')\n",
    "\n",
    "# load professions\n",
    "professions = load_professions()\n",
    "profession_words = [p[0] for p in professions]"
   ]
  },
  {
   "cell_type": "code",
   "execution_count": null,
   "metadata": {
    "collapsed": true
   },
   "outputs": [],
   "source": [
    "# gender direction\n",
    "v_gender = E.diff(\"لڑکا\", \"لڑکی\")"
   ]
  },
  {
   "cell_type": "code",
   "execution_count": null,
   "metadata": {},
   "outputs": [],
   "source": [
    "# analogies gender\n",
    "a_gender_debiased = E.best_analogies_dist_thresh(v_gender)\n",
    "\n",
    "for (a, b, _) in a_gender_debiased:\n",
    "    print(f\"{a} - {b}\")"
   ]
  },
  {
   "cell_type": "code",
   "execution_count": null,
   "metadata": {},
   "outputs": [],
   "source": [
    "# profession analysis gender\n",
    "sp = sorted([(E.v(w).dot(v_gender), w) for w in profession_words if w in E.index])\n",
    "\n",
    "with open(\"urdu_biased_professions.txt\", \"w\") as file:\n",
    "    for item in sp:\n",
    "        # Convert each item to string and write to the file\n",
    "        file.write(str(item) + \"\\n\")\n",
    "\n",
    "sp[0:20], sp[-20:] # Most feminine,  # Most masculine"
   ]
  },
  {
   "cell_type": "code",
   "execution_count": null,
   "metadata": {},
   "outputs": [],
   "source": [
    "# Lets load some gender related word lists to help us with debiasing\n",
    "with open('./data/urdu_definitional_pairs.json', \"r\") as f:\n",
    "    defs = json.load(f)\n",
    "print(\"definitional\", defs)\n",
    "\n",
    "with open('./data/urdu_equalize_pairs.json', \"r\") as f:\n",
    "    equalize_pairs = json.load(f)\n",
    "\n",
    "with open('./data/urdu_gender_specific_seed.json', \"r\") as f:\n",
    "    gender_specific_words = json.load(f)\n",
    "print(\"gender specific\", len(gender_specific_words), gender_specific_words[:10])"
   ]
  },
  {
   "cell_type": "code",
   "execution_count": null,
   "metadata": {},
   "outputs": [],
   "source": [
    "debias(E, gender_specific_words, defs, equalize_pairs)"
   ]
  },
  {
   "cell_type": "code",
   "execution_count": null,
   "metadata": {},
   "outputs": [],
   "source": [
    "# profession analysis gender\n",
    "sp_debiased = sorted([(E.v(w).dot(v_gender), w) for w in profession_words])\n",
    "\n",
    "sp_debiased[0:20], sp_debiased[-20:]"
   ]
  },
  {
   "cell_type": "code",
   "execution_count": null,
   "metadata": {},
   "outputs": [],
   "source": [
    "results = [(score, word) for score, word in sp_debiased if word.lower() == 'معلم']\n",
    "print(results)"
   ]
  },
  {
   "cell_type": "code",
   "execution_count": null,
   "metadata": {},
   "outputs": [],
   "source": [
    "# analogies gender\n",
    "a_gender_debiased = E.best_analogies_dist_thresh(v_gender)\n",
    "\n",
    "for (a, b, _) in a_gender_debiased:\n",
    "    print(f\"{a} - {b}\")"
   ]
  },
  {
   "cell_type": "code",
   "execution_count": null,
   "metadata": {},
   "outputs": [],
   "source": []
  }
 ],
 "metadata": {
  "kernelspec": {
   "display_name": "Python 3",
   "language": "python",
   "name": "python3"
  },
  "language_info": {
   "codemirror_mode": {
    "name": "ipython",
    "version": 3
   },
   "file_extension": ".py",
   "mimetype": "text/x-python",
   "name": "python",
   "nbconvert_exporter": "python",
   "pygments_lexer": "ipython3",
   "version": "3.11.5"
  }
 },
 "nbformat": 4,
 "nbformat_minor": 2
}
